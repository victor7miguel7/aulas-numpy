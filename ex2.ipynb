{
 "cells": [
  {
   "cell_type": "markdown",
   "metadata": {},
   "source": [
    "Você é um analista de RH e tem os salarios de todos os funcionarios de sua empresa em um array Numpy. Seu trabalho é identificar qauntos funcionários ganham acima da media. Use o seguinte array salarios = ([3000, 2500, 3500, 4000, 2000, 4500, 3000, 3800, 4800])"
   ]
  },
  {
   "cell_type": "code",
   "execution_count": 1,
   "metadata": {},
   "outputs": [
    {
     "name": "stdout",
     "output_type": "stream",
     "text": [
      "3455.5555555555557\n"
     ]
    }
   ],
   "source": [
    "import numpy as np \n",
    "\n",
    "salarios = ([3000, 2500, 3500, 4000, 2000, 4500, 3000, 3800, 4800])\n",
    "\n",
    "media = np.mean(salarios)\n",
    "print(media)"
   ]
  },
  {
   "cell_type": "code",
   "execution_count": 5,
   "metadata": {},
   "outputs": [
    {
     "name": "stdout",
     "output_type": "stream",
     "text": [
      "[False False  True  True False  True False  True  True]\n"
     ]
    }
   ],
   "source": [
    "#retorna true para os index do array com cujo o valor é superior ao da media\n",
    "print(salarios > media)"
   ]
  },
  {
   "cell_type": "code",
   "execution_count": 6,
   "metadata": {},
   "outputs": [
    {
     "name": "stdout",
     "output_type": "stream",
     "text": [
      "5\n"
     ]
    }
   ],
   "source": [
    "#como em python, valores true sempre terao valor 1, é só somá-los\n",
    "qts_sao_superiores = np.sum(salarios > media)\n",
    "print(qts_sao_superiores)"
   ]
  },
  {
   "cell_type": "markdown",
   "metadata": {},
   "source": [
    "Criando 20 valores ficticios de salarios com a mesma faixa anterior, tomando cuidado de outras pessoas gerarem os mesmos valores. Calcule a média.\n"
   ]
  },
  {
   "cell_type": "code",
   "execution_count": 7,
   "metadata": {},
   "outputs": [
    {
     "name": "stdout",
     "output_type": "stream",
     "text": [
      "[2249 4167 3832 3228 3212 4404 2240 3952 2564 2263 3474 4731 4060 4131\n",
      " 4008 4200 3437 2358 4351 3261]\n"
     ]
    }
   ],
   "source": [
    "rng = np.random.default_rng(seed=42)\n",
    "\n",
    "salarios_gerados = rng.integers(low=np.min(salarios), high=np.max(salarios), size = 20)\n",
    "print(salarios_gerados)"
   ]
  },
  {
   "cell_type": "code",
   "execution_count": 8,
   "metadata": {},
   "outputs": [
    {
     "name": "stdout",
     "output_type": "stream",
     "text": [
      "3506.1\n"
     ]
    }
   ],
   "source": [
    "print(np.mean(salarios_gerados))"
   ]
  }
 ],
 "metadata": {
  "kernelspec": {
   "display_name": "Python 3",
   "language": "python",
   "name": "python3"
  },
  "language_info": {
   "codemirror_mode": {
    "name": "ipython",
    "version": 3
   },
   "file_extension": ".py",
   "mimetype": "text/x-python",
   "name": "python",
   "nbconvert_exporter": "python",
   "pygments_lexer": "ipython3",
   "version": "3.11.7"
  }
 },
 "nbformat": 4,
 "nbformat_minor": 2
}
