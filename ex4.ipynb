{
 "cells": [
  {
   "cell_type": "markdown",
   "metadata": {},
   "source": [
    "Você é um gerente e tem os dados de vendas de três produtos diferentes(Produto A, Produto B, Produto C) para os últimos 5 dias em um array 2D NumPy. Cada linha do array representa um produto e cada coluna representa um dia. Seu trabalho é calcular as vendas totais para cada produto e para cada dia.\n",
    "Use o seguinte array para sua análise:\n",
    "\n",
    "vendas = np.array([[50, 60, 70, 65, 80],\n",
    "                    [85, 90, 78, 92, 88],\n",
    "                    [72, 75, 68, 77, 76]])"
   ]
  },
  {
   "cell_type": "code",
   "execution_count": 8,
   "metadata": {},
   "outputs": [
    {
     "name": "stdout",
     "output_type": "stream",
     "text": [
      "[325 433 368]\n"
     ]
    }
   ],
   "source": [
    "import numpy as np\n",
    "\n",
    "vendas = np.array([[50, 60, 70, 65, 80],\n",
    "                    [85, 90, 78, 92, 88],\n",
    "                    [72, 75, 68, 77, 76]])\n",
    "#usando axis = 1, somará todos os valores da linha respectiva\n",
    "vendas_produto = np.sum(vendas, axis=1)\n",
    "print(vendas_produto)"
   ]
  },
  {
   "cell_type": "code",
   "execution_count": 3,
   "metadata": {},
   "outputs": [
    {
     "name": "stdout",
     "output_type": "stream",
     "text": [
      "[207 225 216 234 244]\n"
     ]
    }
   ],
   "source": [
    "vendas_por_dias = np.sum(vendas, axis=0)\n",
    "print(vendas_por_dias)"
   ]
  },
  {
   "cell_type": "markdown",
   "metadata": {},
   "source": [
    "Se você quisesse demonstrar automaticamente os valores de cada dia, como faria?\n"
   ]
  },
  {
   "cell_type": "code",
   "execution_count": 6,
   "metadata": {},
   "outputs": [
    {
     "name": "stdout",
     "output_type": "stream",
     "text": [
      "Vendas totais para o dia 1: 207.\n",
      "Vendas totais para o dia 2: 225.\n",
      "Vendas totais para o dia 3: 216.\n",
      "Vendas totais para o dia 4: 234.\n",
      "Vendas totais para o dia 5: 244.\n"
     ]
    }
   ],
   "source": [
    "for i in range(5):\n",
    "    print(f\"Vendas totais para o dia {i+1}: {vendas_por_dias[i]}.\")"
   ]
  }
 ],
 "metadata": {
  "kernelspec": {
   "display_name": "Python 3",
   "language": "python",
   "name": "python3"
  },
  "language_info": {
   "codemirror_mode": {
    "name": "ipython",
    "version": 3
   },
   "file_extension": ".py",
   "mimetype": "text/x-python",
   "name": "python",
   "nbconvert_exporter": "python",
   "pygments_lexer": "ipython3",
   "version": "3.11.7"
  }
 },
 "nbformat": 4,
 "nbformat_minor": 2
}
