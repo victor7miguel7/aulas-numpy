{
 "cells": [
  {
   "cell_type": "markdown",
   "metadata": {},
   "source": [
    "Você é uma gerente de vendas e tem os dados de um produto para os ultimos 7 dias em uma lista: [127, 90, 201, 150, 210, 220, 115]. Calcule a média de vendas durante a semana"
   ]
  },
  {
   "cell_type": "code",
   "execution_count": 1,
   "metadata": {},
   "outputs": [
    {
     "name": "stdout",
     "output_type": "stream",
     "text": [
      "[127  90 201 150 210 220 115]\n"
     ]
    }
   ],
   "source": [
    "import numpy as np\n",
    "\n",
    "dados = [127, 90, 201, 150, 210, 220, 115]\n",
    "\n",
    "vendas = np.array(dados)\n",
    "print(vendas)"
   ]
  },
  {
   "cell_type": "code",
   "execution_count": 12,
   "metadata": {},
   "outputs": [
    {
     "name": "stdout",
     "output_type": "stream",
     "text": [
      "A media de vendas foi R$ 159.00\n"
     ]
    }
   ],
   "source": [
    "media_vendas = np.mean(vendas)\n",
    "\n",
    "print(f\"A media de vendas foi R$ {media_vendas:.2f}\")"
   ]
  },
  {
   "cell_type": "markdown",
   "metadata": {},
   "source": [
    "Você é um analista financeiro e tem os preços de fechamento diario de uma uma ação para a ultima semana em um array NumPy precos = np.array([31.40, 31.25, 31.20, 31.60, 31.50]). Calcule o preço maximo, minimo e a variação de preço durante a semana."
   ]
  },
  {
   "cell_type": "code",
   "execution_count": 7,
   "metadata": {},
   "outputs": [
    {
     "name": "stdout",
     "output_type": "stream",
     "text": [
      "[31.4  31.25 31.2  31.6  31.5 ]\n"
     ]
    }
   ],
   "source": [
    "import numpy as np\n",
    "\n",
    "precos = np.array([31.40, 31.25, 31.20, 31.60, 31.50])\n",
    "\n",
    "print(precos)"
   ]
  },
  {
   "cell_type": "code",
   "execution_count": 11,
   "metadata": {},
   "outputs": [
    {
     "name": "stdout",
     "output_type": "stream",
     "text": [
      "31.6\n",
      "31.2\n",
      "0.40000000000000213\n",
      "O preço maximo foi de 31.60, o mínimo foi de 31.20 e a variação 0.40\n"
     ]
    }
   ],
   "source": [
    "preco_max = np.max(precos)\n",
    "preco_min = np.min(precos)\n",
    "variacao = preco_max - preco_min\n",
    "print(preco_max)\n",
    "print(preco_min)\n",
    "print(variacao)\n",
    "print(f\"O preço maximo foi de {preco_max:.2f}, o mínimo foi de {preco_min:.2f} e a variação {variacao:.2f}\")"
   ]
  },
  {
   "cell_type": "markdown",
   "metadata": {},
   "source": [
    "Sua loja vendeu em um dia 5 unidades de Produto A, 3 unidades do Produto B e 2 unidades do produto C. Os preços dos produtos são, respectivamente, 100, 200 e 50 reais. Calcule o total de vendas em um dia.\n"
   ]
  },
  {
   "cell_type": "code",
   "execution_count": 13,
   "metadata": {},
   "outputs": [
    {
     "name": "stdout",
     "output_type": "stream",
     "text": [
      "[500 600 100]\n"
     ]
    }
   ],
   "source": [
    "import numpy as np  \n",
    "\n",
    "quantidade = np.array([5, 3, 2])\n",
    "precos = np.array([100,200,50])\n",
    "\n",
    "print(quantidade * precos)"
   ]
  },
  {
   "cell_type": "code",
   "execution_count": 15,
   "metadata": {},
   "outputs": [
    {
     "name": "stdout",
     "output_type": "stream",
     "text": [
      "1200\n"
     ]
    }
   ],
   "source": [
    "print(np.sum(quantidade * precos))"
   ]
  },
  {
   "cell_type": "code",
   "execution_count": 16,
   "metadata": {},
   "outputs": [
    {
     "name": "stdout",
     "output_type": "stream",
     "text": [
      "1200\n"
     ]
    }
   ],
   "source": [
    "print(np.dot(quantidade, precos))"
   ]
  }
 ],
 "metadata": {
  "kernelspec": {
   "display_name": "Python 3",
   "language": "python",
   "name": "python3"
  },
  "language_info": {
   "codemirror_mode": {
    "name": "ipython",
    "version": 3
   },
   "file_extension": ".py",
   "mimetype": "text/x-python",
   "name": "python",
   "nbconvert_exporter": "python",
   "pygments_lexer": "ipython3",
   "version": "3.11.7"
  }
 },
 "nbformat": 4,
 "nbformat_minor": 2
}
